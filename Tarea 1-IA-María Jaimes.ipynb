{
 "cells": [
  {
   "cell_type": "markdown",
   "id": "32c75faa",
   "metadata": {},
   "source": [
    "# Tarea 1\n",
    "## María Isabel Jaimes Arias"
   ]
  },
  {
   "cell_type": "markdown",
   "id": "ea168267",
   "metadata": {},
   "source": [
    "1. Consiga el conjunto de datos iris.csv. (ver enlace adjunto)\n",
    "2. Escriba una clase iterable que tenga la siguiente funcionalidad\n",
    "\n",
    "   2.1 Al instanciar un objeto, lee el archivo de datos y lo coloca en un dataframe interno en la clase.\n",
    "   \n",
    "   2.2 Cada vez que se le pidan datos, debe regresar los dos siguientes datos.\n",
    "   \n",
    "   2.3 Imprima \"error\" si los datos se han agotado."
   ]
  },
  {
   "cell_type": "code",
   "execution_count": 1,
   "id": "e3c28ec9",
   "metadata": {},
   "outputs": [],
   "source": [
    "# Librerías a utilizar\n",
    "from sklearn import datasets\n",
    "import pandas as pd\n",
    "import numpy as np\n",
    "import matplotlib.pyplot as plt"
   ]
  },
  {
   "cell_type": "code",
   "execution_count": 2,
   "id": "28da22e0",
   "metadata": {},
   "outputs": [],
   "source": [
    "data = pd.read_csv(\"iris_csv.csv\") # Importación de la base de datos"
   ]
  },
  {
   "cell_type": "code",
   "execution_count": 4,
   "id": "9812db25",
   "metadata": {},
   "outputs": [
    {
     "name": "stdout",
     "output_type": "stream",
     "text": [
      "   sepallength  sepalwidth  petallength  petalwidth        class\n",
      "0          5.1         3.5          1.4         0.2  Iris-setosa\n",
      "1          4.9         3.0          1.4         0.2  Iris-setosa\n",
      "   sepallength  sepalwidth  petallength  petalwidth        class\n",
      "2          4.7         3.2          1.3         0.2  Iris-setosa\n",
      "3          4.6         3.1          1.5         0.2  Iris-setosa\n",
      "   sepallength  sepalwidth  petallength  petalwidth        class\n",
      "4          5.0         3.6          1.4         0.2  Iris-setosa\n",
      "5          5.4         3.9          1.7         0.4  Iris-setosa\n",
      "   sepallength  sepalwidth  petallength  petalwidth        class\n",
      "6          4.6         3.4          1.4         0.3  Iris-setosa\n",
      "7          5.0         3.4          1.5         0.2  Iris-setosa\n",
      "   sepallength  sepalwidth  petallength  petalwidth        class\n",
      "8          4.4         2.9          1.4         0.2  Iris-setosa\n",
      "9          4.9         3.1          1.5         0.1  Iris-setosa\n",
      "    sepallength  sepalwidth  petallength  petalwidth        class\n",
      "10          5.4         3.7          1.5         0.2  Iris-setosa\n",
      "11          4.8         3.4          1.6         0.2  Iris-setosa\n",
      "    sepallength  sepalwidth  petallength  petalwidth        class\n",
      "12          4.8         3.0          1.4         0.1  Iris-setosa\n",
      "13          4.3         3.0          1.1         0.1  Iris-setosa\n",
      "    sepallength  sepalwidth  petallength  petalwidth        class\n",
      "14          5.8         4.0          1.2         0.2  Iris-setosa\n",
      "15          5.7         4.4          1.5         0.4  Iris-setosa\n",
      "    sepallength  sepalwidth  petallength  petalwidth        class\n",
      "16          5.4         3.9          1.3         0.4  Iris-setosa\n",
      "17          5.1         3.5          1.4         0.3  Iris-setosa\n",
      "    sepallength  sepalwidth  petallength  petalwidth        class\n",
      "18          5.7         3.8          1.7         0.3  Iris-setosa\n",
      "19          5.1         3.8          1.5         0.3  Iris-setosa\n",
      "    sepallength  sepalwidth  petallength  petalwidth        class\n",
      "20          5.4         3.4          1.7         0.2  Iris-setosa\n",
      "21          5.1         3.7          1.5         0.4  Iris-setosa\n",
      "    sepallength  sepalwidth  petallength  petalwidth        class\n",
      "22          4.6         3.6          1.0         0.2  Iris-setosa\n",
      "23          5.1         3.3          1.7         0.5  Iris-setosa\n",
      "    sepallength  sepalwidth  petallength  petalwidth        class\n",
      "24          4.8         3.4          1.9         0.2  Iris-setosa\n",
      "25          5.0         3.0          1.6         0.2  Iris-setosa\n",
      "    sepallength  sepalwidth  petallength  petalwidth        class\n",
      "26          5.0         3.4          1.6         0.4  Iris-setosa\n",
      "27          5.2         3.5          1.5         0.2  Iris-setosa\n",
      "    sepallength  sepalwidth  petallength  petalwidth        class\n",
      "28          5.2         3.4          1.4         0.2  Iris-setosa\n",
      "29          4.7         3.2          1.6         0.2  Iris-setosa\n",
      "    sepallength  sepalwidth  petallength  petalwidth        class\n",
      "30          4.8         3.1          1.6         0.2  Iris-setosa\n",
      "31          5.4         3.4          1.5         0.4  Iris-setosa\n",
      "    sepallength  sepalwidth  petallength  petalwidth        class\n",
      "32          5.2         4.1          1.5         0.1  Iris-setosa\n",
      "33          5.5         4.2          1.4         0.2  Iris-setosa\n",
      "    sepallength  sepalwidth  petallength  petalwidth        class\n",
      "34          4.9         3.1          1.5         0.1  Iris-setosa\n",
      "35          5.0         3.2          1.2         0.2  Iris-setosa\n",
      "    sepallength  sepalwidth  petallength  petalwidth        class\n",
      "36          5.5         3.5          1.3         0.2  Iris-setosa\n",
      "37          4.9         3.1          1.5         0.1  Iris-setosa\n",
      "    sepallength  sepalwidth  petallength  petalwidth        class\n",
      "38          4.4         3.0          1.3         0.2  Iris-setosa\n",
      "39          5.1         3.4          1.5         0.2  Iris-setosa\n",
      "    sepallength  sepalwidth  petallength  petalwidth        class\n",
      "40          5.0         3.5          1.3         0.3  Iris-setosa\n",
      "41          4.5         2.3          1.3         0.3  Iris-setosa\n",
      "    sepallength  sepalwidth  petallength  petalwidth        class\n",
      "42          4.4         3.2          1.3         0.2  Iris-setosa\n",
      "43          5.0         3.5          1.6         0.6  Iris-setosa\n",
      "    sepallength  sepalwidth  petallength  petalwidth        class\n",
      "44          5.1         3.8          1.9         0.4  Iris-setosa\n",
      "45          4.8         3.0          1.4         0.3  Iris-setosa\n",
      "    sepallength  sepalwidth  petallength  petalwidth        class\n",
      "46          5.1         3.8          1.6         0.2  Iris-setosa\n",
      "47          4.6         3.2          1.4         0.2  Iris-setosa\n",
      "    sepallength  sepalwidth  petallength  petalwidth        class\n",
      "48          5.3         3.7          1.5         0.2  Iris-setosa\n",
      "49          5.0         3.3          1.4         0.2  Iris-setosa\n",
      "    sepallength  sepalwidth  petallength  petalwidth            class\n",
      "50          7.0         3.2          4.7         1.4  Iris-versicolor\n",
      "51          6.4         3.2          4.5         1.5  Iris-versicolor\n",
      "    sepallength  sepalwidth  petallength  petalwidth            class\n",
      "52          6.9         3.1          4.9         1.5  Iris-versicolor\n",
      "53          5.5         2.3          4.0         1.3  Iris-versicolor\n",
      "    sepallength  sepalwidth  petallength  petalwidth            class\n",
      "54          6.5         2.8          4.6         1.5  Iris-versicolor\n",
      "55          5.7         2.8          4.5         1.3  Iris-versicolor\n",
      "    sepallength  sepalwidth  petallength  petalwidth            class\n",
      "56          6.3         3.3          4.7         1.6  Iris-versicolor\n",
      "57          4.9         2.4          3.3         1.0  Iris-versicolor\n",
      "    sepallength  sepalwidth  petallength  petalwidth            class\n",
      "58          6.6         2.9          4.6         1.3  Iris-versicolor\n",
      "59          5.2         2.7          3.9         1.4  Iris-versicolor\n",
      "    sepallength  sepalwidth  petallength  petalwidth            class\n",
      "60          5.0         2.0          3.5         1.0  Iris-versicolor\n",
      "61          5.9         3.0          4.2         1.5  Iris-versicolor\n",
      "    sepallength  sepalwidth  petallength  petalwidth            class\n",
      "62          6.0         2.2          4.0         1.0  Iris-versicolor\n",
      "63          6.1         2.9          4.7         1.4  Iris-versicolor\n",
      "    sepallength  sepalwidth  petallength  petalwidth            class\n",
      "64          5.6         2.9          3.6         1.3  Iris-versicolor\n",
      "65          6.7         3.1          4.4         1.4  Iris-versicolor\n",
      "    sepallength  sepalwidth  petallength  petalwidth            class\n",
      "66          5.6         3.0          4.5         1.5  Iris-versicolor\n",
      "67          5.8         2.7          4.1         1.0  Iris-versicolor\n",
      "    sepallength  sepalwidth  petallength  petalwidth            class\n",
      "68          6.2         2.2          4.5         1.5  Iris-versicolor\n",
      "69          5.6         2.5          3.9         1.1  Iris-versicolor\n",
      "    sepallength  sepalwidth  petallength  petalwidth            class\n",
      "70          5.9         3.2          4.8         1.8  Iris-versicolor\n",
      "71          6.1         2.8          4.0         1.3  Iris-versicolor\n",
      "    sepallength  sepalwidth  petallength  petalwidth            class\n",
      "72          6.3         2.5          4.9         1.5  Iris-versicolor\n",
      "73          6.1         2.8          4.7         1.2  Iris-versicolor\n",
      "    sepallength  sepalwidth  petallength  petalwidth            class\n",
      "74          6.4         2.9          4.3         1.3  Iris-versicolor\n",
      "75          6.6         3.0          4.4         1.4  Iris-versicolor\n",
      "    sepallength  sepalwidth  petallength  petalwidth            class\n",
      "76          6.8         2.8          4.8         1.4  Iris-versicolor\n",
      "77          6.7         3.0          5.0         1.7  Iris-versicolor\n",
      "    sepallength  sepalwidth  petallength  petalwidth            class\n",
      "78          6.0         2.9          4.5         1.5  Iris-versicolor\n",
      "79          5.7         2.6          3.5         1.0  Iris-versicolor\n",
      "    sepallength  sepalwidth  petallength  petalwidth            class\n",
      "80          5.5         2.4          3.8         1.1  Iris-versicolor\n",
      "81          5.5         2.4          3.7         1.0  Iris-versicolor\n",
      "    sepallength  sepalwidth  petallength  petalwidth            class\n",
      "82          5.8         2.7          3.9         1.2  Iris-versicolor\n",
      "83          6.0         2.7          5.1         1.6  Iris-versicolor\n",
      "    sepallength  sepalwidth  petallength  petalwidth            class\n",
      "84          5.4         3.0          4.5         1.5  Iris-versicolor\n",
      "85          6.0         3.4          4.5         1.6  Iris-versicolor\n",
      "    sepallength  sepalwidth  petallength  petalwidth            class\n",
      "86          6.7         3.1          4.7         1.5  Iris-versicolor\n",
      "87          6.3         2.3          4.4         1.3  Iris-versicolor\n",
      "    sepallength  sepalwidth  petallength  petalwidth            class\n",
      "88          5.6         3.0          4.1         1.3  Iris-versicolor\n",
      "89          5.5         2.5          4.0         1.3  Iris-versicolor\n",
      "    sepallength  sepalwidth  petallength  petalwidth            class\n",
      "90          5.5         2.6          4.4         1.2  Iris-versicolor\n",
      "91          6.1         3.0          4.6         1.4  Iris-versicolor\n",
      "    sepallength  sepalwidth  petallength  petalwidth            class\n",
      "92          5.8         2.6          4.0         1.2  Iris-versicolor\n",
      "93          5.0         2.3          3.3         1.0  Iris-versicolor\n",
      "    sepallength  sepalwidth  petallength  petalwidth            class\n",
      "94          5.6         2.7          4.2         1.3  Iris-versicolor\n",
      "95          5.7         3.0          4.2         1.2  Iris-versicolor\n",
      "    sepallength  sepalwidth  petallength  petalwidth            class\n",
      "96          5.7         2.9          4.2         1.3  Iris-versicolor\n",
      "97          6.2         2.9          4.3         1.3  Iris-versicolor\n",
      "    sepallength  sepalwidth  petallength  petalwidth            class\n",
      "98          5.1         2.5          3.0         1.1  Iris-versicolor\n",
      "99          5.7         2.8          4.1         1.3  Iris-versicolor\n",
      "     sepallength  sepalwidth  petallength  petalwidth           class\n",
      "100          6.3         3.3          6.0         2.5  Iris-virginica\n",
      "101          5.8         2.7          5.1         1.9  Iris-virginica\n",
      "     sepallength  sepalwidth  petallength  petalwidth           class\n",
      "102          7.1         3.0          5.9         2.1  Iris-virginica\n",
      "103          6.3         2.9          5.6         1.8  Iris-virginica\n",
      "     sepallength  sepalwidth  petallength  petalwidth           class\n",
      "104          6.5         3.0          5.8         2.2  Iris-virginica\n",
      "105          7.6         3.0          6.6         2.1  Iris-virginica\n",
      "     sepallength  sepalwidth  petallength  petalwidth           class\n",
      "106          4.9         2.5          4.5         1.7  Iris-virginica\n",
      "107          7.3         2.9          6.3         1.8  Iris-virginica\n",
      "     sepallength  sepalwidth  petallength  petalwidth           class\n",
      "108          6.7         2.5          5.8         1.8  Iris-virginica\n",
      "109          7.2         3.6          6.1         2.5  Iris-virginica\n",
      "     sepallength  sepalwidth  petallength  petalwidth           class\n",
      "110          6.5         3.2          5.1         2.0  Iris-virginica\n",
      "111          6.4         2.7          5.3         1.9  Iris-virginica\n",
      "     sepallength  sepalwidth  petallength  petalwidth           class\n",
      "112          6.8         3.0          5.5         2.1  Iris-virginica\n",
      "113          5.7         2.5          5.0         2.0  Iris-virginica\n",
      "     sepallength  sepalwidth  petallength  petalwidth           class\n",
      "114          5.8         2.8          5.1         2.4  Iris-virginica\n",
      "115          6.4         3.2          5.3         2.3  Iris-virginica\n",
      "     sepallength  sepalwidth  petallength  petalwidth           class\n",
      "116          6.5         3.0          5.5         1.8  Iris-virginica\n",
      "117          7.7         3.8          6.7         2.2  Iris-virginica\n",
      "     sepallength  sepalwidth  petallength  petalwidth           class\n",
      "118          7.7         2.6          6.9         2.3  Iris-virginica\n",
      "119          6.0         2.2          5.0         1.5  Iris-virginica\n",
      "     sepallength  sepalwidth  petallength  petalwidth           class\n",
      "120          6.9         3.2          5.7         2.3  Iris-virginica\n",
      "121          5.6         2.8          4.9         2.0  Iris-virginica\n",
      "     sepallength  sepalwidth  petallength  petalwidth           class\n",
      "122          7.7         2.8          6.7         2.0  Iris-virginica\n",
      "123          6.3         2.7          4.9         1.8  Iris-virginica\n",
      "     sepallength  sepalwidth  petallength  petalwidth           class\n",
      "124          6.7         3.3          5.7         2.1  Iris-virginica\n",
      "125          7.2         3.2          6.0         1.8  Iris-virginica\n",
      "     sepallength  sepalwidth  petallength  petalwidth           class\n",
      "126          6.2         2.8          4.8         1.8  Iris-virginica\n",
      "127          6.1         3.0          4.9         1.8  Iris-virginica\n",
      "     sepallength  sepalwidth  petallength  petalwidth           class\n",
      "128          6.4         2.8          5.6         2.1  Iris-virginica\n",
      "129          7.2         3.0          5.8         1.6  Iris-virginica\n",
      "     sepallength  sepalwidth  petallength  petalwidth           class\n",
      "130          7.4         2.8          6.1         1.9  Iris-virginica\n",
      "131          7.9         3.8          6.4         2.0  Iris-virginica\n",
      "     sepallength  sepalwidth  petallength  petalwidth           class\n",
      "132          6.4         2.8          5.6         2.2  Iris-virginica\n",
      "133          6.3         2.8          5.1         1.5  Iris-virginica\n",
      "     sepallength  sepalwidth  petallength  petalwidth           class\n",
      "134          6.1         2.6          5.6         1.4  Iris-virginica\n",
      "135          7.7         3.0          6.1         2.3  Iris-virginica\n",
      "     sepallength  sepalwidth  petallength  petalwidth           class\n",
      "136          6.3         3.4          5.6         2.4  Iris-virginica\n",
      "137          6.4         3.1          5.5         1.8  Iris-virginica\n",
      "     sepallength  sepalwidth  petallength  petalwidth           class\n",
      "138          6.0         3.0          4.8         1.8  Iris-virginica\n",
      "139          6.9         3.1          5.4         2.1  Iris-virginica\n",
      "     sepallength  sepalwidth  petallength  petalwidth           class\n",
      "140          6.7         3.1          5.6         2.4  Iris-virginica\n",
      "141          6.9         3.1          5.1         2.3  Iris-virginica\n",
      "     sepallength  sepalwidth  petallength  petalwidth           class\n",
      "142          5.8         2.7          5.1         1.9  Iris-virginica\n",
      "143          6.8         3.2          5.9         2.3  Iris-virginica\n",
      "     sepallength  sepalwidth  petallength  petalwidth           class\n",
      "144          6.7         3.3          5.7         2.5  Iris-virginica\n",
      "145          6.7         3.0          5.2         2.3  Iris-virginica\n"
     ]
    },
    {
     "name": "stdout",
     "output_type": "stream",
     "text": [
      "     sepallength  sepalwidth  petallength  petalwidth           class\n",
      "146          6.3         2.5          5.0         1.9  Iris-virginica\n",
      "147          6.5         3.0          5.2         2.0  Iris-virginica\n",
      "     sepallength  sepalwidth  petallength  petalwidth           class\n",
      "148          6.2         3.4          5.4         2.3  Iris-virginica\n",
      "149          5.9         3.0          5.1         1.8  Iris-virginica\n"
     ]
    }
   ],
   "source": [
    "class Iteracion:\n",
    "    def __init__(self, df):\n",
    "        self.datos = pd.read_csv(df)\n",
    "        self.indice = 0 # Índice para la iteración\n",
    "    \n",
    "    def __iter__(self): # Iteración\n",
    "        return self\n",
    "    \n",
    "    def __next__(self):\n",
    "        if self.indice < self.datos.shape[0]: # Número de filas\n",
    "            extraccion = self.datos.iloc[self.indice:self.indice+2,] # Extraer el dato dado y el siguiente dato\n",
    "            self.indice += 2\n",
    "            return extraccion\n",
    "        else:\n",
    "            raise StopIteration(\"Error: Se han acabado los datos\")\n",
    "\n",
    "# Prueba \n",
    "prueba = Iteracion(\"iris_csv.csv\")\n",
    "for i in prueba:\n",
    "    print(i)"
   ]
  },
  {
   "cell_type": "markdown",
   "id": "47e4f17e",
   "metadata": {},
   "source": [
    "3. Escriba una clase con las siguientes funcionalidades:\n",
    "\n",
    "    3.1 Al instanciar un objeto, lee un conjunto de datos numéricos. Por ejemplo puede usar el mismo conjunto de datos iris.csv.  Instancie los datos en un dataframe de Pandas.\n",
    "    \n",
    "    3.2 Implemente un método que calcule las estadísticas descriptivas básicas de cada una de las variables (sepal.length, sepal.width, petal.length, etc)\n",
    "    \n",
    "    3.3 Implemente un método que entregue los nombre de las variables disponibles.\n",
    "    \n",
    "    3.4 Implemente un método que reciba el nombre de una variable disponible dentro del objeto (en el dataframe) y regrese: sus estadísticas básicas: media, mediana, desviación, percentiles q25, q50, q75 y dibuje un histograma de la distribución de la variable."
   ]
  },
  {
   "cell_type": "code",
   "execution_count": 10,
   "id": "ca5f4fc3",
   "metadata": {},
   "outputs": [
    {
     "name": "stdout",
     "output_type": "stream",
     "text": [
      "(       sepallength  sepalwidth  petallength  petalwidth\n",
      "count   150.000000  150.000000   150.000000  150.000000\n",
      "mean      5.843333    3.054000     3.758667    1.198667\n",
      "std       0.828066    0.433594     1.764420    0.763161\n",
      "min       4.300000    2.000000     1.000000    0.100000\n",
      "25%       5.100000    2.800000     1.600000    0.300000\n",
      "50%       5.800000    3.000000     4.350000    1.300000\n",
      "75%       6.400000    3.300000     5.100000    1.800000\n",
      "max       7.900000    4.400000     6.900000    2.500000,               class\n",
      "count           150\n",
      "unique            3\n",
      "top     Iris-setosa\n",
      "freq             50)\n"
     ]
    }
   ],
   "source": [
    "class Descriptiva:\n",
    "    def __init__(self, df):\n",
    "        self.datos = pd.read_csv(df) # Leer el dataframe\n",
    "    \n",
    "    def estadisticas(self):\n",
    "        variables_numericas = self.datos.select_dtypes(include=['number']).describe() # Estadísticas para variables numéricas \n",
    "        variables_categoricas = self.datos.select_dtypes(include=['object']).describe() # Estadísticas para variables categóricas \n",
    "        return variables_numericas, variables_categoricas\n",
    "    \n",
    "    def disponibles(self):\n",
    "        return self.datos.columns.tolist() # Variables disponibles\n",
    "    \n",
    "    def estad_variable(self, nombre_variable):\n",
    "        if nombre_variable in self.datos.columns:\n",
    "            variable = self.datos[nombre_variable] # Variable\n",
    "            if pd.api.types.is_numeric_dtype(variable):\n",
    "                mean = variable.mean() # Media de la variable\n",
    "                median = variable.median() # Mediana de la variable\n",
    "                std = variable.std() # Desviación estándar de la variable\n",
    "                q25 = variable.quantile(0.25) # Primer cuartil de la variable\n",
    "                q50 = variable.quantile(0.5) # Segundo cuartil de la variable\n",
    "                q75 = variable.quantile(0.75) # Tercer cuartil de la variable\n",
    "\n",
    "                plt.hist(variable, bins=15,edgecolor='black',color=\"pink\")\n",
    "                plt.title(f'Histograma de la variable {nombre_variable}')\n",
    "                plt.xlabel(nombre_variable)\n",
    "                plt.ylabel('Frecuencia')\n",
    "                plt.show()\n",
    "\n",
    "                return {\n",
    "                    \"mean\": mean,\n",
    "                    \"median\": median,\n",
    "                    \"std\": std,\n",
    "                    \"q25\": q25,\n",
    "                    \"q50\": q50,\n",
    "                    \"q75\": q75 }\n",
    "            else:\n",
    "                return \"La variable seleccionada no es numérica\"\n",
    "            \n",
    "            \n",
    "        else:\n",
    "            return \"La variable no está en la base de datos. Pruebe la función 'disponibles' para saber cuáles variables hay\"\n",
    "\n",
    "# Prueba de la clase para estadísticas descriptivas\n",
    "prueba2 = Descriptiva(\"iris_csv.csv\")\n",
    "print(prueba2.estadisticas()) # Estadísticas de las variables"
   ]
  },
  {
   "cell_type": "code",
   "execution_count": 7,
   "id": "ef431328",
   "metadata": {},
   "outputs": [
    {
     "name": "stdout",
     "output_type": "stream",
     "text": [
      "['sepallength', 'sepalwidth', 'petallength', 'petalwidth', 'class']\n"
     ]
    }
   ],
   "source": [
    "print(prueba2.disponibles()) # Variables disponibles"
   ]
  },
  {
   "cell_type": "code",
   "execution_count": 8,
   "id": "7ad550c7",
   "metadata": {},
   "outputs": [
    {
     "data": {
      "image/png": "[encoded data removed]",
      "text/plain": [
       "<Figure size 640x480 with 1 Axes>"
      ]
     },
     "metadata": {},
     "output_type": "display_data"
    },
    {
     "name": "stdout",
     "output_type": "stream",
     "text": [
      "{'mean': 5.843333333333334, 'median': 5.8, 'std': 0.8280661279778629, 'q25': 5.1, 'q50': 5.8, 'q75': 6.4}\n"
     ]
    }
   ],
   "source": [
    "print(prueba2.estad_variable(\"sepallength\"))"
   ]
  },
  {
   "cell_type": "code",
   "execution_count": 11,
   "id": "ac339ee5",
   "metadata": {},
   "outputs": [
    {
     "name": "stdout",
     "output_type": "stream",
     "text": [
      "La variable no está en la base de datos. Pruebe la función 'disponibles' para saber cuáles variables hay\n"
     ]
    }
   ],
   "source": [
    "print(prueba2.estad_variable(\"sepallensdsgth\")) "
   ]
  },
  {
   "cell_type": "code",
   "execution_count": 12,
   "id": "7a778d62",
   "metadata": {},
   "outputs": [
    {
     "name": "stdout",
     "output_type": "stream",
     "text": [
      "La variable seleccionada no es numérica\n"
     ]
    }
   ],
   "source": [
    "print(prueba2.estad_variable(\"class\")) "
   ]
  }
 ],
 "metadata": {
  "kernelspec": {
   "display_name": "Python 3 (ipykernel)",
   "language": "python",
   "name": "python3"
  },
  "language_info": {
   "codemirror_mode": {
    "name": "ipython",
    "version": 3
   },
   "file_extension": ".py",
   "mimetype": "text/x-python",
   "name": "python",
   "nbconvert_exporter": "python",
   "pygments_lexer": "ipython3",
   "version": "3.8.3"
  }
 },
 "nbformat": 4,
 "nbformat_minor": 5
}
